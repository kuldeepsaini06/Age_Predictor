{
 "cells": [
  {
   "cell_type": "code",
   "execution_count": 1,
   "metadata": {},
   "outputs": [],
   "source": [
    "import pandas as pd\n",
    "import numpy as np\n",
    "import seaborn as sns\n",
    "import matplotlib.pyplot as plt\n",
    "sns.set()\n",
    "%matplotlib inline\n",
    "\n",
    "from pandas_profiling import ProfileReport\n",
    "\n",
    "from sklearn.model_selection import train_test_split\n",
    "from sklearn.preprocessing import MinMaxScaler\n",
    "from sklearn.preprocessing import LabelEncoder\n",
    "from sklearn.linear_model import LinearRegression\n",
    "from sklearn.tree import DecisionTreeRegressor\n",
    "from sklearn.ensemble import RandomForestRegressor\n",
    "from sklearn.ensemble import AdaBoostRegressor\n",
    "from xgboost import XGBRFRegressor\n",
    "from xgboost import XGBRegressor\n",
    "\n",
    "from sklearn.metrics import mean_squared_error\n",
    "from sklearn.metrics import mean_absolute_error\n",
    "from sklearn.metrics import r2_score"
   ]
  },
  {
   "cell_type": "code",
   "execution_count": 2,
   "metadata": {},
   "outputs": [
    {
     "data": {
      "text/html": [
       "<div>\n",
       "<style scoped>\n",
       "    .dataframe tbody tr th:only-of-type {\n",
       "        vertical-align: middle;\n",
       "    }\n",
       "\n",
       "    .dataframe tbody tr th {\n",
       "        vertical-align: top;\n",
       "    }\n",
       "\n",
       "    .dataframe thead th {\n",
       "        text-align: right;\n",
       "    }\n",
       "</style>\n",
       "<table border=\"1\" class=\"dataframe\">\n",
       "  <thead>\n",
       "    <tr style=\"text-align: right;\">\n",
       "      <th></th>\n",
       "      <th>id</th>\n",
       "      <th>gender</th>\n",
       "      <th>height</th>\n",
       "      <th>religion</th>\n",
       "      <th>caste</th>\n",
       "      <th>mother_tongue</th>\n",
       "      <th>profession</th>\n",
       "      <th>location</th>\n",
       "      <th>country</th>\n",
       "      <th>age_of_marriage</th>\n",
       "    </tr>\n",
       "  </thead>\n",
       "  <tbody>\n",
       "    <tr>\n",
       "      <th>0</th>\n",
       "      <td>1</td>\n",
       "      <td>female</td>\n",
       "      <td>5'4\"</td>\n",
       "      <td>NaN</td>\n",
       "      <td>others</td>\n",
       "      <td>Telugu</td>\n",
       "      <td>NaN</td>\n",
       "      <td>London</td>\n",
       "      <td>United Kingdom</td>\n",
       "      <td>21.0</td>\n",
       "    </tr>\n",
       "    <tr>\n",
       "      <th>1</th>\n",
       "      <td>2</td>\n",
       "      <td>male</td>\n",
       "      <td>5'7\"</td>\n",
       "      <td>Jain</td>\n",
       "      <td>Shwetamber</td>\n",
       "      <td>Gujarati</td>\n",
       "      <td>Doctor / Healthcare Professional</td>\n",
       "      <td>Fairfax- VA</td>\n",
       "      <td>USA</td>\n",
       "      <td>32.0</td>\n",
       "    </tr>\n",
       "    <tr>\n",
       "      <th>2</th>\n",
       "      <td>3</td>\n",
       "      <td>male</td>\n",
       "      <td>5'7\"</td>\n",
       "      <td>Hindu</td>\n",
       "      <td>Brahmin</td>\n",
       "      <td>Hindi</td>\n",
       "      <td>Entrepreneurs / Business</td>\n",
       "      <td>Begusarai</td>\n",
       "      <td>India</td>\n",
       "      <td>32.0</td>\n",
       "    </tr>\n",
       "    <tr>\n",
       "      <th>3</th>\n",
       "      <td>4</td>\n",
       "      <td>female</td>\n",
       "      <td>5'0\"</td>\n",
       "      <td>Hindu</td>\n",
       "      <td>Thakur</td>\n",
       "      <td>Hindi</td>\n",
       "      <td>Architect</td>\n",
       "      <td>Mumbai</td>\n",
       "      <td>India</td>\n",
       "      <td>30.0</td>\n",
       "    </tr>\n",
       "    <tr>\n",
       "      <th>4</th>\n",
       "      <td>5</td>\n",
       "      <td>male</td>\n",
       "      <td>5'5\"</td>\n",
       "      <td>Christian</td>\n",
       "      <td>Born Again</td>\n",
       "      <td>Malayalam</td>\n",
       "      <td>Sales Professional / Marketing</td>\n",
       "      <td>Sulthan Bathery</td>\n",
       "      <td>India</td>\n",
       "      <td>30.0</td>\n",
       "    </tr>\n",
       "  </tbody>\n",
       "</table>\n",
       "</div>"
      ],
      "text/plain": [
       "   id  gender height   religion        caste mother_tongue  \\\n",
       "0   1  female   5'4\"        NaN       others        Telugu   \n",
       "1   2    male   5'7\"       Jain   Shwetamber      Gujarati   \n",
       "2   3    male   5'7\"      Hindu      Brahmin         Hindi   \n",
       "3   4  female   5'0\"      Hindu       Thakur         Hindi   \n",
       "4   5    male   5'5\"  Christian   Born Again     Malayalam   \n",
       "\n",
       "                         profession         location          country  \\\n",
       "0                               NaN           London   United Kingdom   \n",
       "1  Doctor / Healthcare Professional      Fairfax- VA              USA   \n",
       "2         Entrepreneurs / Business         Begusarai            India   \n",
       "3                         Architect           Mumbai            India   \n",
       "4    Sales Professional / Marketing  Sulthan Bathery            India   \n",
       "\n",
       "   age_of_marriage  \n",
       "0             21.0  \n",
       "1             32.0  \n",
       "2             32.0  \n",
       "3             30.0  \n",
       "4             30.0  "
      ]
     },
     "execution_count": 2,
     "metadata": {},
     "output_type": "execute_result"
    }
   ],
   "source": [
    "data=pd.read_csv('age_of_marriage_data.csv')\n",
    "data.head()"
   ]
  },
  {
   "cell_type": "code",
   "execution_count": null,
   "metadata": {},
   "outputs": [],
   "source": [
    "def check_shape(df):\n",
    "    rows,columns= df.s"
   ]
  },
  {
   "cell_type": "code",
   "execution_count": 5,
   "metadata": {},
   "outputs": [
    {
     "name": "stdout",
     "output_type": "stream",
     "text": [
      "<class 'pandas.core.frame.DataFrame'>\n",
      "RangeIndex: 2567 entries, 0 to 2566\n",
      "Data columns (total 10 columns):\n",
      " #   Column           Non-Null Count  Dtype  \n",
      "---  ------           --------------  -----  \n",
      " 0   id               2567 non-null   int64  \n",
      " 1   gender           2538 non-null   object \n",
      " 2   height           2449 non-null   object \n",
      " 3   religion         1932 non-null   object \n",
      " 4   caste            2425 non-null   object \n",
      " 5   mother_tongue    2403 non-null   object \n",
      " 6   profession       2237 non-null   object \n",
      " 7   location         2412 non-null   object \n",
      " 8   country          2551 non-null   object \n",
      " 9   age_of_marriage  2548 non-null   float64\n",
      "dtypes: float64(1), int64(1), object(8)\n",
      "memory usage: 200.7+ KB\n"
     ]
    }
   ],
   "source": [
    "data.info()"
   ]
  },
  {
   "cell_type": "code",
   "execution_count": 6,
   "metadata": {},
   "outputs": [
    {
     "data": {
      "text/html": [
       "<div>\n",
       "<style scoped>\n",
       "    .dataframe tbody tr th:only-of-type {\n",
       "        vertical-align: middle;\n",
       "    }\n",
       "\n",
       "    .dataframe tbody tr th {\n",
       "        vertical-align: top;\n",
       "    }\n",
       "\n",
       "    .dataframe thead th {\n",
       "        text-align: right;\n",
       "    }\n",
       "</style>\n",
       "<table border=\"1\" class=\"dataframe\">\n",
       "  <thead>\n",
       "    <tr style=\"text-align: right;\">\n",
       "      <th></th>\n",
       "      <th>id</th>\n",
       "      <th>age_of_marriage</th>\n",
       "    </tr>\n",
       "  </thead>\n",
       "  <tbody>\n",
       "    <tr>\n",
       "      <th>count</th>\n",
       "      <td>2567.000000</td>\n",
       "      <td>2548.000000</td>\n",
       "    </tr>\n",
       "    <tr>\n",
       "      <th>mean</th>\n",
       "      <td>1284.000000</td>\n",
       "      <td>29.648352</td>\n",
       "    </tr>\n",
       "    <tr>\n",
       "      <th>std</th>\n",
       "      <td>741.173394</td>\n",
       "      <td>2.802414</td>\n",
       "    </tr>\n",
       "    <tr>\n",
       "      <th>min</th>\n",
       "      <td>1.000000</td>\n",
       "      <td>20.000000</td>\n",
       "    </tr>\n",
       "    <tr>\n",
       "      <th>25%</th>\n",
       "      <td>642.500000</td>\n",
       "      <td>28.000000</td>\n",
       "    </tr>\n",
       "    <tr>\n",
       "      <th>50%</th>\n",
       "      <td>1284.000000</td>\n",
       "      <td>30.000000</td>\n",
       "    </tr>\n",
       "    <tr>\n",
       "      <th>75%</th>\n",
       "      <td>1925.500000</td>\n",
       "      <td>32.000000</td>\n",
       "    </tr>\n",
       "    <tr>\n",
       "      <th>max</th>\n",
       "      <td>2567.000000</td>\n",
       "      <td>36.000000</td>\n",
       "    </tr>\n",
       "  </tbody>\n",
       "</table>\n",
       "</div>"
      ],
      "text/plain": [
       "                id  age_of_marriage\n",
       "count  2567.000000      2548.000000\n",
       "mean   1284.000000        29.648352\n",
       "std     741.173394         2.802414\n",
       "min       1.000000        20.000000\n",
       "25%     642.500000        28.000000\n",
       "50%    1284.000000        30.000000\n",
       "75%    1925.500000        32.000000\n",
       "max    2567.000000        36.000000"
      ]
     },
     "execution_count": 6,
     "metadata": {},
     "output_type": "execute_result"
    }
   ],
   "source": [
    "data.describe()"
   ]
  },
  {
   "cell_type": "code",
   "execution_count": 7,
   "metadata": {},
   "outputs": [
    {
     "name": "stdout",
     "output_type": "stream",
     "text": [
      "2047    1\n",
      "1404    1\n",
      "1200    1\n",
      "1198    1\n",
      "1196    1\n",
      "       ..\n",
      "2474    1\n",
      "425     1\n",
      "2472    1\n",
      "423     1\n",
      "2049    1\n",
      "Name: id, Length: 2567, dtype: int64\n",
      "-----------------------------------------\n",
      "male      1338\n",
      "female    1200\n",
      "Name: gender, dtype: int64\n",
      "-----------------------------------------\n",
      "5'3\"     229\n",
      "5'6\"     229\n",
      "5'5\"     226\n",
      "5'4\"     216\n",
      "5'2\"     212\n",
      "5'7\"     212\n",
      "5'8\"     188\n",
      "5'0\"     160\n",
      "5'9\"     135\n",
      "5'1\"     131\n",
      "5'11\"    117\n",
      "5'10\"    103\n",
      "4'5\"      83\n",
      "6'0\"      61\n",
      "4'11\"     31\n",
      "4'6\"      21\n",
      "6'1\"      19\n",
      "4'10\"     18\n",
      "4'7\"      16\n",
      "4'8\"      11\n",
      "4'9\"      11\n",
      "6'2\"       8\n",
      "7'0\"       4\n",
      "6'5\"       2\n",
      "6'3\"       2\n",
      "6'4\"       2\n",
      "6'8\"       1\n",
      "6'10\"      1\n",
      "Name: height, dtype: int64\n",
      "-----------------------------------------\n",
      "Hindu        1576\n",
      "Sikh          150\n",
      "Christian     120\n",
      "Jain           46\n",
      "Muslim         40\n",
      "Name: religion, dtype: int64\n",
      "-----------------------------------------\n",
      "others                   493\n",
      " Brahmin                 252\n",
      " Kshatriya                70\n",
      " Lingayath                65\n",
      " Agarwal                  53\n",
      " Shwetamber               46\n",
      " Patel                    42\n",
      " Baniya                   41\n",
      " Vaishnav                 41\n",
      " Bhandari                 41\n",
      " Arora                    41\n",
      " Balija                   40\n",
      " Goud                     40\n",
      " Arya Vysya               40\n",
      " Billava                  40\n",
      " Baidya                   40\n",
      " Saini                    40\n",
      " Baishnab                 40\n",
      " Scheduled Caste (SC)     40\n",
      " Kaibarta                 40\n",
      " Born Again               40\n",
      " OBC - Barber/Naayee      40\n",
      " Roman Catholic           40\n",
      " Panchal                  40\n",
      " Thakur                   40\n",
      " Sindhi-Sakkhar           40\n",
      " Agri                     40\n",
      " Ahom                     40\n",
      " Kayastha                 40\n",
      " Sahu                     40\n",
      " Kalita                   40\n",
      " Gursikh                  40\n",
      " Vanniyar                 40\n",
      " Rajput - Lodhi           40\n",
      " Baishya                  40\n",
      " Memon                    40\n",
      " Bhatia                   40\n",
      " Valmiki                  40\n",
      " Ramdasia                 40\n",
      " Khatri                   40\n",
      " Marthoma                 40\n",
      " Viswabrahmin             40\n",
      "Name: caste, dtype: int64\n",
      "-----------------------------------------\n",
      "Hindi           508\n",
      "Telugu          283\n",
      "Bengali         249\n",
      "Punjabi         233\n",
      "Marathi         215\n",
      "Gujarati        184\n",
      "Kannada         157\n",
      "Tamil           111\n",
      "Assamese        107\n",
      "Malayalam        97\n",
      "Odia             64\n",
      "Sindhi           58\n",
      "Marwari          30\n",
      "Tulu             29\n",
      "English          24\n",
      "Konkani          22\n",
      "Urdu              7\n",
      "Chattisgarhi      5\n",
      "Haryanavi         4\n",
      "Kutchi            4\n",
      "Bhojpuri          4\n",
      "Other             2\n",
      "Manipuri          2\n",
      "Rajasthani        1\n",
      "Kashmiri          1\n",
      "Aka               1\n",
      "Nepali            1\n",
      "Name: mother_tongue, dtype: int64\n",
      "-----------------------------------------\n",
      "Not Specified                   264\n",
      "Not working                     253\n",
      "Banking Professional            109\n",
      "Software Professional           105\n",
      "Entrepreneurs / Business         86\n",
      "                               ... \n",
      "Indian Police Services [IPS]      1\n",
      "IAS / IRS / IES / IFS             1\n",
      "Pilot / Co-Pilot                  1\n",
      "Landscape Architect               1\n",
      "Indian Police Services (IPS)      1\n",
      "Name: profession, Length: 86, dtype: int64\n",
      "-----------------------------------------\n",
      "Mumbai                   213\n",
      "Bengaluru / Bangalore    169\n",
      "Delhi                    140\n",
      "Hyderabad                100\n",
      "Pune                      90\n",
      "                        ... \n",
      "Piriyapatna                1\n",
      "Medak                      1\n",
      "Neemuch                    1\n",
      "Phulbani                   1\n",
      "Sharjah                    1\n",
      "Name: location, Length: 536, dtype: int64\n",
      "-----------------------------------------\n",
      " India                   2246\n",
      " USA                      131\n",
      " Canada                    35\n",
      " United Arab Emirates      34\n",
      " United Kingdom            23\n",
      " Australia                 19\n",
      " Malaysia                  17\n",
      " Pakistan                   6\n",
      " New Zealand                6\n",
      " Kuwait                     5\n",
      " Bangladesh                 4\n",
      " Qatar                      3\n",
      " Singapore                  3\n",
      " Oman                       2\n",
      " Germany                    2\n",
      " Netherlands                2\n",
      " South Africa               1\n",
      " Bahrain                    1\n",
      " Philippines                1\n",
      " Sweden                     1\n",
      " Japan                      1\n",
      " Denmark                    1\n",
      " Ireland                    1\n",
      " Norway                     1\n",
      " Hong Kong SAR              1\n",
      " Nigeria                    1\n",
      " Armenia                    1\n",
      " Italy                      1\n",
      " Myanmar                    1\n",
      "Name: country, dtype: int64\n",
      "-----------------------------------------\n",
      "30.0    415\n",
      "29.0    373\n",
      "31.0    311\n",
      "28.0    308\n",
      "32.0    246\n",
      "27.0    217\n",
      "33.0    183\n",
      "26.0    114\n",
      "34.0    107\n",
      "35.0     91\n",
      "25.0     60\n",
      "24.0     50\n",
      "21.0     19\n",
      "22.0     18\n",
      "23.0     16\n",
      "36.0     12\n",
      "20.0      8\n",
      "Name: age_of_marriage, dtype: int64\n",
      "-----------------------------------------\n"
     ]
    }
   ],
   "source": [
    "for i in data.columns:\n",
    "    print(data[i].value_counts())\n",
    "    print('-----------------------------------------')"
   ]
  },
  {
   "cell_type": "code",
   "execution_count": 8,
   "metadata": {},
   "outputs": [],
   "source": [
    "# here we can drop the useless columns\n",
    "# id columns has single value it wont help in our prediction so we can remove it\n",
    "\n",
    "data.drop('id',axis=1,inplace=True)"
   ]
  },
  {
   "cell_type": "code",
   "execution_count": 9,
   "metadata": {},
   "outputs": [
    {
     "name": "stdout",
     "output_type": "stream",
     "text": [
      "male      1338\n",
      "female    1200\n",
      "Name: gender, dtype: int64\n",
      "-----------------------------------------\n",
      "5'3\"     229\n",
      "5'6\"     229\n",
      "5'5\"     226\n",
      "5'4\"     216\n",
      "5'2\"     212\n",
      "5'7\"     212\n",
      "5'8\"     188\n",
      "5'0\"     160\n",
      "5'9\"     135\n",
      "5'1\"     131\n",
      "5'11\"    117\n",
      "5'10\"    103\n",
      "4'5\"      83\n",
      "6'0\"      61\n",
      "4'11\"     31\n",
      "4'6\"      21\n",
      "6'1\"      19\n",
      "4'10\"     18\n",
      "4'7\"      16\n",
      "4'8\"      11\n",
      "4'9\"      11\n",
      "6'2\"       8\n",
      "7'0\"       4\n",
      "6'5\"       2\n",
      "6'3\"       2\n",
      "6'4\"       2\n",
      "6'8\"       1\n",
      "6'10\"      1\n",
      "Name: height, dtype: int64\n",
      "-----------------------------------------\n",
      "Hindu        1576\n",
      "Sikh          150\n",
      "Christian     120\n",
      "Jain           46\n",
      "Muslim         40\n",
      "Name: religion, dtype: int64\n",
      "-----------------------------------------\n",
      "others                   493\n",
      " Brahmin                 252\n",
      " Kshatriya                70\n",
      " Lingayath                65\n",
      " Agarwal                  53\n",
      " Shwetamber               46\n",
      " Patel                    42\n",
      " Baniya                   41\n",
      " Vaishnav                 41\n",
      " Bhandari                 41\n",
      " Arora                    41\n",
      " Balija                   40\n",
      " Goud                     40\n",
      " Arya Vysya               40\n",
      " Billava                  40\n",
      " Baidya                   40\n",
      " Saini                    40\n",
      " Baishnab                 40\n",
      " Scheduled Caste (SC)     40\n",
      " Kaibarta                 40\n",
      " Born Again               40\n",
      " OBC - Barber/Naayee      40\n",
      " Roman Catholic           40\n",
      " Panchal                  40\n",
      " Thakur                   40\n",
      " Sindhi-Sakkhar           40\n",
      " Agri                     40\n",
      " Ahom                     40\n",
      " Kayastha                 40\n",
      " Sahu                     40\n",
      " Kalita                   40\n",
      " Gursikh                  40\n",
      " Vanniyar                 40\n",
      " Rajput - Lodhi           40\n",
      " Baishya                  40\n",
      " Memon                    40\n",
      " Bhatia                   40\n",
      " Valmiki                  40\n",
      " Ramdasia                 40\n",
      " Khatri                   40\n",
      " Marthoma                 40\n",
      " Viswabrahmin             40\n",
      "Name: caste, dtype: int64\n",
      "-----------------------------------------\n",
      "Hindi           508\n",
      "Telugu          283\n",
      "Bengali         249\n",
      "Punjabi         233\n",
      "Marathi         215\n",
      "Gujarati        184\n",
      "Kannada         157\n",
      "Tamil           111\n",
      "Assamese        107\n",
      "Malayalam        97\n",
      "Odia             64\n",
      "Sindhi           58\n",
      "Marwari          30\n",
      "Tulu             29\n",
      "English          24\n",
      "Konkani          22\n",
      "Urdu              7\n",
      "Chattisgarhi      5\n",
      "Haryanavi         4\n",
      "Kutchi            4\n",
      "Bhojpuri          4\n",
      "Other             2\n",
      "Manipuri          2\n",
      "Rajasthani        1\n",
      "Kashmiri          1\n",
      "Aka               1\n",
      "Nepali            1\n",
      "Name: mother_tongue, dtype: int64\n",
      "-----------------------------------------\n",
      "Not Specified                   264\n",
      "Not working                     253\n",
      "Banking Professional            109\n",
      "Software Professional           105\n",
      "Entrepreneurs / Business         86\n",
      "                               ... \n",
      "Indian Police Services [IPS]      1\n",
      "IAS / IRS / IES / IFS             1\n",
      "Pilot / Co-Pilot                  1\n",
      "Landscape Architect               1\n",
      "Indian Police Services (IPS)      1\n",
      "Name: profession, Length: 86, dtype: int64\n",
      "-----------------------------------------\n",
      "Mumbai                   213\n",
      "Bengaluru / Bangalore    169\n",
      "Delhi                    140\n",
      "Hyderabad                100\n",
      "Pune                      90\n",
      "                        ... \n",
      "Piriyapatna                1\n",
      "Medak                      1\n",
      "Neemuch                    1\n",
      "Phulbani                   1\n",
      "Sharjah                    1\n",
      "Name: location, Length: 536, dtype: int64\n",
      "-----------------------------------------\n",
      " India                   2246\n",
      " USA                      131\n",
      " Canada                    35\n",
      " United Arab Emirates      34\n",
      " United Kingdom            23\n",
      " Australia                 19\n",
      " Malaysia                  17\n",
      " Pakistan                   6\n",
      " New Zealand                6\n",
      " Kuwait                     5\n",
      " Bangladesh                 4\n",
      " Qatar                      3\n",
      " Singapore                  3\n",
      " Oman                       2\n",
      " Germany                    2\n",
      " Netherlands                2\n",
      " South Africa               1\n",
      " Bahrain                    1\n",
      " Philippines                1\n",
      " Sweden                     1\n",
      " Japan                      1\n",
      " Denmark                    1\n",
      " Ireland                    1\n",
      " Norway                     1\n",
      " Hong Kong SAR              1\n",
      " Nigeria                    1\n",
      " Armenia                    1\n",
      " Italy                      1\n",
      " Myanmar                    1\n",
      "Name: country, dtype: int64\n",
      "-----------------------------------------\n",
      "30.0    415\n",
      "29.0    373\n",
      "31.0    311\n",
      "28.0    308\n",
      "32.0    246\n",
      "27.0    217\n",
      "33.0    183\n",
      "26.0    114\n",
      "34.0    107\n",
      "35.0     91\n",
      "25.0     60\n",
      "24.0     50\n",
      "21.0     19\n",
      "22.0     18\n",
      "23.0     16\n",
      "36.0     12\n",
      "20.0      8\n",
      "Name: age_of_marriage, dtype: int64\n",
      "-----------------------------------------\n"
     ]
    }
   ],
   "source": [
    "for i in data.columns:\n",
    "    print(data[i].value_counts())\n",
    "    print('-----------------------------------------')"
   ]
  },
  {
   "cell_type": "code",
   "execution_count": 10,
   "metadata": {},
   "outputs": [
    {
     "data": {
      "text/plain": [
       "gender              1.129723\n",
       "height              4.596806\n",
       "religion           24.737047\n",
       "caste               5.531749\n",
       "mother_tongue       6.388781\n",
       "profession         12.855473\n",
       "location            6.038177\n",
       "country             0.623296\n",
       "age_of_marriage     0.740164\n",
       "dtype: float64"
      ]
     },
     "execution_count": 10,
     "metadata": {},
     "output_type": "execute_result"
    }
   ],
   "source": [
    "data.isna().sum()/data.shape[0]*100 # checking the percentage of null values"
   ]
  },
  {
   "cell_type": "code",
   "execution_count": 11,
   "metadata": {},
   "outputs": [
    {
     "data": {
      "text/plain": [
       "(2567, 9)"
      ]
     },
     "execution_count": 11,
     "metadata": {},
     "output_type": "execute_result"
    }
   ],
   "source": [
    "data.shape"
   ]
  },
  {
   "cell_type": "code",
   "execution_count": 12,
   "metadata": {},
   "outputs": [],
   "source": [
    "data.dropna(inplace=True)"
   ]
  },
  {
   "cell_type": "code",
   "execution_count": 13,
   "metadata": {},
   "outputs": [
    {
     "data": {
      "text/plain": [
       "(1932, 9)"
      ]
     },
     "execution_count": 13,
     "metadata": {},
     "output_type": "execute_result"
    }
   ],
   "source": [
    "data.shape"
   ]
  },
  {
   "cell_type": "code",
   "execution_count": 14,
   "metadata": {},
   "outputs": [
    {
     "data": {
      "text/plain": [
       "array(['Doctor / Healthcare Professional', 'Entrepreneurs / Business ',\n",
       "       'Architect', 'Sales Professional / Marketing', 'Sportsman',\n",
       "       'Banking Professional', 'Software Professional', 'HR Professional',\n",
       "       'Finance Professional', 'Not Specified', 'Not working',\n",
       "       'Chartered Accountant', 'Logistics and Travel Professional',\n",
       "       'Defense Services', 'Team Member / Staff',\n",
       "       'Managers and Senior Executives', 'Admin Professional',\n",
       "       'Accounting Professional (Others)', 'Investment Professional',\n",
       "       'Civil Engineer', 'Consultant / Supervisor / Team Leads',\n",
       "       'Public Relations Professional', 'Training Professional (Others)',\n",
       "       'Hotel & Hospitality Professional (Others)',\n",
       "       'Software Professional (Others)', 'Nurse', 'Artist (Others)',\n",
       "       'Non IT Engineer (Others)', 'Event Manager',\n",
       "       'Marketing Professional', 'Science Professional (Others)',\n",
       "       'Mechanical / Production Engineer', 'Research Assistant',\n",
       "       'Electronics / Telecom Engineer', 'Teacher', 'Professor',\n",
       "       'Interior Designer', 'Fashion Designer', 'Beautician',\n",
       "       'Software Consultant',\n",
       "       'Medical / Healthcare Professional (Others)',\n",
       "       'Agent / Broker / Trader / Contractor', 'Lawyer',\n",
       "       'Hardware & Networking professional', 'Web / UX Designers',\n",
       "       'Pharmacist', 'Research Scholar', 'Actor',\n",
       "       'Entertainment Professional', 'Student',\n",
       "       'Customer Support / BPO / KPO Professional', 'Designer (Others)',\n",
       "       'Media Professional', 'Physiotherapist / Occupational Therapist',\n",
       "       'Merchant Naval Officer', 'VP / AVP / GM / DGM',\n",
       "       'CxO / Chairman / Director / President', 'IAS / IRS / IES / IFS',\n",
       "       'Writer', 'Lecturer', 'Other Airline Professional',\n",
       "       'Social Worker / Volunteer / NGO', 'Jewellery Designer',\n",
       "       'Company Secretary', 'Mariner', 'Chef / Sommelier / Food Critic',\n",
       "       'Law Enforcement Employee (Others)', 'Hairstylist',\n",
       "       'Agricultural Professional (Others)', 'Farming',\n",
       "       'Landscape Architect', 'Psychologist', 'Legal Assistant',\n",
       "       'Dentist', 'Surgeon', 'Legal Professional (Others)',\n",
       "       'Air Hostess / Flight Attendant', 'Advertising Professional',\n",
       "       'Indian Police Services [IPS]', 'Medical Transcriptionist',\n",
       "       'Physician Assistant', 'Commercial Artist',\n",
       "       'Veterinary Doctor / Healthcare Professional', 'Pilot / Co-Pilot'],\n",
       "      dtype=object)"
      ]
     },
     "execution_count": 14,
     "metadata": {},
     "output_type": "execute_result"
    }
   ],
   "source": [
    "data['profession'].unique()"
   ]
  },
  {
   "cell_type": "code",
   "execution_count": 15,
   "metadata": {},
   "outputs": [
    {
     "data": {
      "text/plain": [
       "1        5'7\"\n",
       "2        5'7\"\n",
       "3        5'0\"\n",
       "4        5'5\"\n",
       "5        5'5\"\n",
       "        ...  \n",
       "2561    5'11\"\n",
       "2562     5'3\"\n",
       "2563    5'11\"\n",
       "2564     5'3\"\n",
       "2566     5'2\"\n",
       "Name: height, Length: 1932, dtype: object"
      ]
     },
     "execution_count": 15,
     "metadata": {},
     "output_type": "execute_result"
    }
   ],
   "source": [
    "data['height'] # here height is in foot and inch so we have to convert it to cm or m"
   ]
  },
  {
   "cell_type": "code",
   "execution_count": 16,
   "metadata": {},
   "outputs": [
    {
     "data": {
      "text/plain": [
       "'5\\'7\"'"
      ]
     },
     "execution_count": 16,
     "metadata": {},
     "output_type": "execute_result"
    }
   ],
   "source": [
    "data.loc[1,'height']"
   ]
  },
  {
   "cell_type": "code",
   "execution_count": 17,
   "metadata": {},
   "outputs": [
    {
     "data": {
      "text/plain": [
       "['5', '7\"']"
      ]
     },
     "execution_count": 17,
     "metadata": {},
     "output_type": "execute_result"
    }
   ],
   "source": [
    "data.loc[1,'height'].split('\\'')"
   ]
  },
  {
   "cell_type": "code",
   "execution_count": 18,
   "metadata": {},
   "outputs": [
    {
     "data": {
      "text/plain": [
       "'5'"
      ]
     },
     "execution_count": 18,
     "metadata": {},
     "output_type": "execute_result"
    }
   ],
   "source": [
    "data.loc[1,'height'].split('\\'')[0]"
   ]
  },
  {
   "cell_type": "code",
   "execution_count": 19,
   "metadata": {},
   "outputs": [
    {
     "data": {
      "text/plain": [
       "152.4"
      ]
     },
     "execution_count": 19,
     "metadata": {},
     "output_type": "execute_result"
    }
   ],
   "source": [
    "int(data.loc[1,'height'].split('\\'')[0])*30.48"
   ]
  },
  {
   "cell_type": "code",
   "execution_count": 20,
   "metadata": {},
   "outputs": [
    {
     "data": {
      "text/plain": [
       "17.78"
      ]
     },
     "execution_count": 20,
     "metadata": {},
     "output_type": "execute_result"
    }
   ],
   "source": [
    "int(data.loc[1,'height'].split('\\'')[1].replace('\"',\"\"))*2.54"
   ]
  },
  {
   "cell_type": "code",
   "execution_count": 21,
   "metadata": {},
   "outputs": [],
   "source": [
    "def height_convert(x):\n",
    "    return int(x.split('\\'')[0])*30.48+int(x.split('\\'')[1].replace('\"',\"\"))*2.54"
   ]
  },
  {
   "cell_type": "code",
   "execution_count": 22,
   "metadata": {},
   "outputs": [],
   "source": [
    "data['height_cms']= data['height'].apply(height_convert)"
   ]
  },
  {
   "cell_type": "code",
   "execution_count": 23,
   "metadata": {},
   "outputs": [
    {
     "data": {
      "text/html": [
       "<div>\n",
       "<style scoped>\n",
       "    .dataframe tbody tr th:only-of-type {\n",
       "        vertical-align: middle;\n",
       "    }\n",
       "\n",
       "    .dataframe tbody tr th {\n",
       "        vertical-align: top;\n",
       "    }\n",
       "\n",
       "    .dataframe thead th {\n",
       "        text-align: right;\n",
       "    }\n",
       "</style>\n",
       "<table border=\"1\" class=\"dataframe\">\n",
       "  <thead>\n",
       "    <tr style=\"text-align: right;\">\n",
       "      <th></th>\n",
       "      <th>gender</th>\n",
       "      <th>height</th>\n",
       "      <th>religion</th>\n",
       "      <th>caste</th>\n",
       "      <th>mother_tongue</th>\n",
       "      <th>profession</th>\n",
       "      <th>location</th>\n",
       "      <th>country</th>\n",
       "      <th>age_of_marriage</th>\n",
       "      <th>height_cms</th>\n",
       "    </tr>\n",
       "  </thead>\n",
       "  <tbody>\n",
       "    <tr>\n",
       "      <th>1</th>\n",
       "      <td>male</td>\n",
       "      <td>5'7\"</td>\n",
       "      <td>Jain</td>\n",
       "      <td>Shwetamber</td>\n",
       "      <td>Gujarati</td>\n",
       "      <td>Doctor / Healthcare Professional</td>\n",
       "      <td>Fairfax- VA</td>\n",
       "      <td>USA</td>\n",
       "      <td>32.0</td>\n",
       "      <td>170.18</td>\n",
       "    </tr>\n",
       "    <tr>\n",
       "      <th>2</th>\n",
       "      <td>male</td>\n",
       "      <td>5'7\"</td>\n",
       "      <td>Hindu</td>\n",
       "      <td>Brahmin</td>\n",
       "      <td>Hindi</td>\n",
       "      <td>Entrepreneurs / Business</td>\n",
       "      <td>Begusarai</td>\n",
       "      <td>India</td>\n",
       "      <td>32.0</td>\n",
       "      <td>170.18</td>\n",
       "    </tr>\n",
       "    <tr>\n",
       "      <th>3</th>\n",
       "      <td>female</td>\n",
       "      <td>5'0\"</td>\n",
       "      <td>Hindu</td>\n",
       "      <td>Thakur</td>\n",
       "      <td>Hindi</td>\n",
       "      <td>Architect</td>\n",
       "      <td>Mumbai</td>\n",
       "      <td>India</td>\n",
       "      <td>30.0</td>\n",
       "      <td>152.40</td>\n",
       "    </tr>\n",
       "    <tr>\n",
       "      <th>4</th>\n",
       "      <td>male</td>\n",
       "      <td>5'5\"</td>\n",
       "      <td>Christian</td>\n",
       "      <td>Born Again</td>\n",
       "      <td>Malayalam</td>\n",
       "      <td>Sales Professional / Marketing</td>\n",
       "      <td>Sulthan Bathery</td>\n",
       "      <td>India</td>\n",
       "      <td>30.0</td>\n",
       "      <td>165.10</td>\n",
       "    </tr>\n",
       "    <tr>\n",
       "      <th>5</th>\n",
       "      <td>male</td>\n",
       "      <td>5'5\"</td>\n",
       "      <td>Hindu</td>\n",
       "      <td>Valmiki</td>\n",
       "      <td>Hindi</td>\n",
       "      <td>Sportsman</td>\n",
       "      <td>Delhi</td>\n",
       "      <td>India</td>\n",
       "      <td>29.0</td>\n",
       "      <td>165.10</td>\n",
       "    </tr>\n",
       "  </tbody>\n",
       "</table>\n",
       "</div>"
      ],
      "text/plain": [
       "   gender height   religion        caste mother_tongue  \\\n",
       "1    male   5'7\"       Jain   Shwetamber      Gujarati   \n",
       "2    male   5'7\"      Hindu      Brahmin         Hindi   \n",
       "3  female   5'0\"      Hindu       Thakur         Hindi   \n",
       "4    male   5'5\"  Christian   Born Again     Malayalam   \n",
       "5    male   5'5\"      Hindu      Valmiki         Hindi   \n",
       "\n",
       "                         profession         location country  age_of_marriage  \\\n",
       "1  Doctor / Healthcare Professional      Fairfax- VA     USA             32.0   \n",
       "2         Entrepreneurs / Business         Begusarai   India             32.0   \n",
       "3                         Architect           Mumbai   India             30.0   \n",
       "4    Sales Professional / Marketing  Sulthan Bathery   India             30.0   \n",
       "5                         Sportsman            Delhi   India             29.0   \n",
       "\n",
       "   height_cms  \n",
       "1      170.18  \n",
       "2      170.18  \n",
       "3      152.40  \n",
       "4      165.10  \n",
       "5      165.10  "
      ]
     },
     "execution_count": 23,
     "metadata": {},
     "output_type": "execute_result"
    }
   ],
   "source": [
    "data.head()"
   ]
  },
  {
   "cell_type": "code",
   "execution_count": 24,
   "metadata": {},
   "outputs": [],
   "source": [
    "data.drop('height',axis=1,inplace=True)"
   ]
  },
  {
   "cell_type": "code",
   "execution_count": 25,
   "metadata": {},
   "outputs": [
    {
     "data": {
      "text/html": [
       "<div>\n",
       "<style scoped>\n",
       "    .dataframe tbody tr th:only-of-type {\n",
       "        vertical-align: middle;\n",
       "    }\n",
       "\n",
       "    .dataframe tbody tr th {\n",
       "        vertical-align: top;\n",
       "    }\n",
       "\n",
       "    .dataframe thead th {\n",
       "        text-align: right;\n",
       "    }\n",
       "</style>\n",
       "<table border=\"1\" class=\"dataframe\">\n",
       "  <thead>\n",
       "    <tr style=\"text-align: right;\">\n",
       "      <th></th>\n",
       "      <th>gender</th>\n",
       "      <th>religion</th>\n",
       "      <th>caste</th>\n",
       "      <th>mother_tongue</th>\n",
       "      <th>profession</th>\n",
       "      <th>location</th>\n",
       "      <th>country</th>\n",
       "      <th>age_of_marriage</th>\n",
       "      <th>height_cms</th>\n",
       "    </tr>\n",
       "  </thead>\n",
       "  <tbody>\n",
       "    <tr>\n",
       "      <th>1</th>\n",
       "      <td>male</td>\n",
       "      <td>Jain</td>\n",
       "      <td>Shwetamber</td>\n",
       "      <td>Gujarati</td>\n",
       "      <td>Doctor / Healthcare Professional</td>\n",
       "      <td>Fairfax- VA</td>\n",
       "      <td>USA</td>\n",
       "      <td>32.0</td>\n",
       "      <td>170.18</td>\n",
       "    </tr>\n",
       "    <tr>\n",
       "      <th>2</th>\n",
       "      <td>male</td>\n",
       "      <td>Hindu</td>\n",
       "      <td>Brahmin</td>\n",
       "      <td>Hindi</td>\n",
       "      <td>Entrepreneurs / Business</td>\n",
       "      <td>Begusarai</td>\n",
       "      <td>India</td>\n",
       "      <td>32.0</td>\n",
       "      <td>170.18</td>\n",
       "    </tr>\n",
       "    <tr>\n",
       "      <th>3</th>\n",
       "      <td>female</td>\n",
       "      <td>Hindu</td>\n",
       "      <td>Thakur</td>\n",
       "      <td>Hindi</td>\n",
       "      <td>Architect</td>\n",
       "      <td>Mumbai</td>\n",
       "      <td>India</td>\n",
       "      <td>30.0</td>\n",
       "      <td>152.40</td>\n",
       "    </tr>\n",
       "    <tr>\n",
       "      <th>4</th>\n",
       "      <td>male</td>\n",
       "      <td>Christian</td>\n",
       "      <td>Born Again</td>\n",
       "      <td>Malayalam</td>\n",
       "      <td>Sales Professional / Marketing</td>\n",
       "      <td>Sulthan Bathery</td>\n",
       "      <td>India</td>\n",
       "      <td>30.0</td>\n",
       "      <td>165.10</td>\n",
       "    </tr>\n",
       "    <tr>\n",
       "      <th>5</th>\n",
       "      <td>male</td>\n",
       "      <td>Hindu</td>\n",
       "      <td>Valmiki</td>\n",
       "      <td>Hindi</td>\n",
       "      <td>Sportsman</td>\n",
       "      <td>Delhi</td>\n",
       "      <td>India</td>\n",
       "      <td>29.0</td>\n",
       "      <td>165.10</td>\n",
       "    </tr>\n",
       "  </tbody>\n",
       "</table>\n",
       "</div>"
      ],
      "text/plain": [
       "   gender   religion        caste mother_tongue  \\\n",
       "1    male       Jain   Shwetamber      Gujarati   \n",
       "2    male      Hindu      Brahmin         Hindi   \n",
       "3  female      Hindu       Thakur         Hindi   \n",
       "4    male  Christian   Born Again     Malayalam   \n",
       "5    male      Hindu      Valmiki         Hindi   \n",
       "\n",
       "                         profession         location country  age_of_marriage  \\\n",
       "1  Doctor / Healthcare Professional      Fairfax- VA     USA             32.0   \n",
       "2         Entrepreneurs / Business         Begusarai   India             32.0   \n",
       "3                         Architect           Mumbai   India             30.0   \n",
       "4    Sales Professional / Marketing  Sulthan Bathery   India             30.0   \n",
       "5                         Sportsman            Delhi   India             29.0   \n",
       "\n",
       "   height_cms  \n",
       "1      170.18  \n",
       "2      170.18  \n",
       "3      152.40  \n",
       "4      165.10  \n",
       "5      165.10  "
      ]
     },
     "execution_count": 25,
     "metadata": {},
     "output_type": "execute_result"
    }
   ],
   "source": [
    "data.head()"
   ]
  },
  {
   "cell_type": "code",
   "execution_count": 26,
   "metadata": {},
   "outputs": [],
   "source": [
    "# performing label encoding for other "
   ]
  },
  {
   "cell_type": "code",
   "execution_count": 27,
   "metadata": {},
   "outputs": [],
   "source": [
    "le= LabelEncoder()"
   ]
  },
  {
   "cell_type": "code",
   "execution_count": 28,
   "metadata": {},
   "outputs": [],
   "source": [
    "data.loc[:,['gender','religion','caste','mother_tongue','profession','location','country']]=data.loc[:,['gender','religion','caste','mother_tongue','profession','location','country']].apply(le.fit_transform)"
   ]
  },
  {
   "cell_type": "code",
   "execution_count": 29,
   "metadata": {},
   "outputs": [
    {
     "data": {
      "text/html": [
       "<div>\n",
       "<style scoped>\n",
       "    .dataframe tbody tr th:only-of-type {\n",
       "        vertical-align: middle;\n",
       "    }\n",
       "\n",
       "    .dataframe tbody tr th {\n",
       "        vertical-align: top;\n",
       "    }\n",
       "\n",
       "    .dataframe thead th {\n",
       "        text-align: right;\n",
       "    }\n",
       "</style>\n",
       "<table border=\"1\" class=\"dataframe\">\n",
       "  <thead>\n",
       "    <tr style=\"text-align: right;\">\n",
       "      <th></th>\n",
       "      <th>gender</th>\n",
       "      <th>religion</th>\n",
       "      <th>caste</th>\n",
       "      <th>mother_tongue</th>\n",
       "      <th>profession</th>\n",
       "      <th>location</th>\n",
       "      <th>country</th>\n",
       "      <th>age_of_marriage</th>\n",
       "      <th>height_cms</th>\n",
       "    </tr>\n",
       "  </thead>\n",
       "  <tbody>\n",
       "    <tr>\n",
       "      <th>1</th>\n",
       "      <td>1</td>\n",
       "      <td>2</td>\n",
       "      <td>34</td>\n",
       "      <td>6</td>\n",
       "      <td>22</td>\n",
       "      <td>153</td>\n",
       "      <td>19</td>\n",
       "      <td>32.0</td>\n",
       "      <td>170.18</td>\n",
       "    </tr>\n",
       "    <tr>\n",
       "      <th>2</th>\n",
       "      <td>1</td>\n",
       "      <td>1</td>\n",
       "      <td>14</td>\n",
       "      <td>8</td>\n",
       "      <td>25</td>\n",
       "      <td>56</td>\n",
       "      <td>5</td>\n",
       "      <td>32.0</td>\n",
       "      <td>170.18</td>\n",
       "    </tr>\n",
       "    <tr>\n",
       "      <th>3</th>\n",
       "      <td>0</td>\n",
       "      <td>1</td>\n",
       "      <td>36</td>\n",
       "      <td>8</td>\n",
       "      <td>7</td>\n",
       "      <td>295</td>\n",
       "      <td>5</td>\n",
       "      <td>30.0</td>\n",
       "      <td>152.40</td>\n",
       "    </tr>\n",
       "    <tr>\n",
       "      <th>4</th>\n",
       "      <td>1</td>\n",
       "      <td>0</td>\n",
       "      <td>13</td>\n",
       "      <td>13</td>\n",
       "      <td>68</td>\n",
       "      <td>410</td>\n",
       "      <td>5</td>\n",
       "      <td>30.0</td>\n",
       "      <td>165.10</td>\n",
       "    </tr>\n",
       "    <tr>\n",
       "      <th>5</th>\n",
       "      <td>1</td>\n",
       "      <td>1</td>\n",
       "      <td>38</td>\n",
       "      <td>8</td>\n",
       "      <td>74</td>\n",
       "      <td>124</td>\n",
       "      <td>5</td>\n",
       "      <td>29.0</td>\n",
       "      <td>165.10</td>\n",
       "    </tr>\n",
       "  </tbody>\n",
       "</table>\n",
       "</div>"
      ],
      "text/plain": [
       "   gender  religion  caste  mother_tongue  profession  location  country  \\\n",
       "1       1         2     34              6          22       153       19   \n",
       "2       1         1     14              8          25        56        5   \n",
       "3       0         1     36              8           7       295        5   \n",
       "4       1         0     13             13          68       410        5   \n",
       "5       1         1     38              8          74       124        5   \n",
       "\n",
       "   age_of_marriage  height_cms  \n",
       "1             32.0      170.18  \n",
       "2             32.0      170.18  \n",
       "3             30.0      152.40  \n",
       "4             30.0      165.10  \n",
       "5             29.0      165.10  "
      ]
     },
     "execution_count": 29,
     "metadata": {},
     "output_type": "execute_result"
    }
   ],
   "source": [
    "data.head()"
   ]
  },
  {
   "cell_type": "code",
   "execution_count": 30,
   "metadata": {},
   "outputs": [],
   "source": [
    "X= data.drop('age_of_marriage',axis=1)\n",
    "y= data['age_of_marriage']\n",
    "\n",
    "X_train,X_test,y_train,y_test= train_test_split(X,y,test_size=0.2,random_state=0)\n",
    "\n",
    "models={'Linear regression': LinearRegression(),\n",
    "       'Tree': DecisionTreeRegressor(),\n",
    "       'Random_forest': RandomForestRegressor(n_estimators=80,max_depth=11),\n",
    "       'Ada_boost': AdaBoostRegressor(),\n",
    "       'Xgboost': XGBRegressor(),\n",
    "       'Xgbr_boost': XGBRFRegressor()}\n",
    "\n",
    "train_score={}\n",
    "test_score={}\n",
    "\n",
    "for name,model in models.items():\n",
    "    model.fit(X_train,y_train)\n",
    "    train_score[name]=model.score(X_train,y_train)\n",
    "    test_score[name]=model.score(X_test,y_test)"
   ]
  },
  {
   "cell_type": "code",
   "execution_count": 31,
   "metadata": {},
   "outputs": [
    {
     "data": {
      "text/plain": [
       "{'Linear regression': 0.11491960271167789,\n",
       " 'Tree': 0.9983686410790747,\n",
       " 'Random_forest': 0.8651116670548257,\n",
       " 'Ada_boost': 0.2865175245417315,\n",
       " 'Xgboost': 0.9638001922774486,\n",
       " 'Xgbr_boost': 0.5622787165268461}"
      ]
     },
     "execution_count": 31,
     "metadata": {},
     "output_type": "execute_result"
    }
   ],
   "source": [
    "train_score"
   ]
  },
  {
   "cell_type": "code",
   "execution_count": 32,
   "metadata": {},
   "outputs": [
    {
     "data": {
      "text/plain": [
       "{'Linear regression': 0.12211302309020555,\n",
       " 'Tree': 0.5019994007870743,\n",
       " 'Random_forest': 0.6994794897025267,\n",
       " 'Ada_boost': 0.27915524330416475,\n",
       " 'Xgboost': 0.6591466687864309,\n",
       " 'Xgbr_boost': 0.548046617935215}"
      ]
     },
     "execution_count": 32,
     "metadata": {},
     "output_type": "execute_result"
    }
   ],
   "source": [
    "test_score"
   ]
  },
  {
   "cell_type": "code",
   "execution_count": 33,
   "metadata": {},
   "outputs": [
    {
     "data": {
      "text/html": [
       "<div>\n",
       "<style scoped>\n",
       "    .dataframe tbody tr th:only-of-type {\n",
       "        vertical-align: middle;\n",
       "    }\n",
       "\n",
       "    .dataframe tbody tr th {\n",
       "        vertical-align: top;\n",
       "    }\n",
       "\n",
       "    .dataframe thead th {\n",
       "        text-align: right;\n",
       "    }\n",
       "</style>\n",
       "<table border=\"1\" class=\"dataframe\">\n",
       "  <thead>\n",
       "    <tr style=\"text-align: right;\">\n",
       "      <th></th>\n",
       "      <th>Train_score</th>\n",
       "      <th>Test_score</th>\n",
       "      <th>Difference</th>\n",
       "    </tr>\n",
       "  </thead>\n",
       "  <tbody>\n",
       "    <tr>\n",
       "      <th>Linear regression</th>\n",
       "      <td>0.114920</td>\n",
       "      <td>0.122113</td>\n",
       "      <td>-0.007193</td>\n",
       "    </tr>\n",
       "    <tr>\n",
       "      <th>Tree</th>\n",
       "      <td>0.998369</td>\n",
       "      <td>0.501999</td>\n",
       "      <td>0.496369</td>\n",
       "    </tr>\n",
       "    <tr>\n",
       "      <th>Random_forest</th>\n",
       "      <td>0.865112</td>\n",
       "      <td>0.699479</td>\n",
       "      <td>0.165632</td>\n",
       "    </tr>\n",
       "    <tr>\n",
       "      <th>Ada_boost</th>\n",
       "      <td>0.286518</td>\n",
       "      <td>0.279155</td>\n",
       "      <td>0.007362</td>\n",
       "    </tr>\n",
       "    <tr>\n",
       "      <th>Xgboost</th>\n",
       "      <td>0.963800</td>\n",
       "      <td>0.659147</td>\n",
       "      <td>0.304654</td>\n",
       "    </tr>\n",
       "    <tr>\n",
       "      <th>Xgbr_boost</th>\n",
       "      <td>0.562279</td>\n",
       "      <td>0.548047</td>\n",
       "      <td>0.014232</td>\n",
       "    </tr>\n",
       "  </tbody>\n",
       "</table>\n",
       "</div>"
      ],
      "text/plain": [
       "                   Train_score  Test_score  Difference\n",
       "Linear regression     0.114920    0.122113   -0.007193\n",
       "Tree                  0.998369    0.501999    0.496369\n",
       "Random_forest         0.865112    0.699479    0.165632\n",
       "Ada_boost             0.286518    0.279155    0.007362\n",
       "Xgboost               0.963800    0.659147    0.304654\n",
       "Xgbr_boost            0.562279    0.548047    0.014232"
      ]
     },
     "execution_count": 33,
     "metadata": {},
     "output_type": "execute_result"
    }
   ],
   "source": [
    "result= pd.DataFrame(train_score,index=['Train_score'])\n",
    "result= result.T\n",
    "result['Test_score']= test_score.values()\n",
    "result['Difference']= result['Train_score']-result['Test_score']\n",
    "result"
   ]
  },
  {
   "cell_type": "code",
   "execution_count": 34,
   "metadata": {},
   "outputs": [
    {
     "data": {
      "image/png": "[encoded data removed]",
      "text/plain": [
       "<Figure size 432x288 with 1 Axes>"
      ]
     },
     "metadata": {
      "needs_background": "light"
     },
     "output_type": "display_data"
    }
   ],
   "source": [
    "result.plot.bar();"
   ]
  },
  {
   "cell_type": "code",
   "execution_count": 35,
   "metadata": {},
   "outputs": [],
   "source": [
    "rf= RandomForestRegressor(n_estimators=80,max_depth=11).fit(X_train,y_train)"
   ]
  },
  {
   "cell_type": "code",
   "execution_count": 36,
   "metadata": {},
   "outputs": [],
   "source": [
    "y_pred= rf.predict(X_test)"
   ]
  },
  {
   "cell_type": "code",
   "execution_count": 37,
   "metadata": {},
   "outputs": [
    {
     "name": "stdout",
     "output_type": "stream",
     "text": [
      "mean_squared_error: 1.4996983141000726\n",
      "\n",
      "\n",
      "mean_absolute_error: 1.0502247483030247\n",
      "\n",
      "\n",
      "r_square: 0.6968734084358736\n"
     ]
    }
   ],
   "source": [
    "mse= mean_squared_error(y_test,y_pred)\n",
    "mae= mean_absolute_error(y_test,y_pred)\n",
    "r_squre= r2_score(y_test,y_pred)\n",
    "print('mean_squared_error:',mse)\n",
    "print('\\n')\n",
    "print('mean_absolute_error:',mae)\n",
    "print('\\n')\n",
    "print('r_square:',r_squre)"
   ]
  },
  {
   "cell_type": "code",
   "execution_count": null,
   "metadata": {},
   "outputs": [],
   "source": []
  }
 ],
 "metadata": {
  "kernelspec": {
   "display_name": "Python 3",
   "language": "python",
   "name": "python3"
  },
  "language_info": {
   "codemirror_mode": {
    "name": "ipython",
    "version": 3
   },
   "file_extension": ".py",
   "mimetype": "text/x-python",
   "name": "python",
   "nbconvert_exporter": "python",
   "pygments_lexer": "ipython3",
   "version": "3.8.5"
  }
 },
 "nbformat": 4,
 "nbformat_minor": 4
}
